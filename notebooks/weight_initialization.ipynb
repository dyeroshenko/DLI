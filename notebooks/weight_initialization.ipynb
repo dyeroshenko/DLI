{
  "cells": [
    {
      "cell_type": "markdown",
      "metadata": {
        "id": "GC3zhbZUGV06"
      },
      "source": [
        "# Weight Initialization"
      ]
    },
    {
      "cell_type": "markdown",
      "metadata": {
        "id": "69xm7n0YGV07"
      },
      "source": [
        "In this notebook, we experiment with weight initialization approaches to examine their impact on layer outputs."
      ]
    },
    {
      "cell_type": "markdown",
      "metadata": {
        "id": "JhJv_lY0GV07"
      },
      "source": [
        "#### Load dependencies"
      ]
    },
    {
      "cell_type": "code",
      "execution_count": 1,
      "metadata": {
        "id": "QBowbj1DGV07"
      },
      "outputs": [],
      "source": [
        "import numpy as np\n",
        "import matplotlib.pyplot as plt\n",
        "\n",
        "from keras import Sequential\n",
        "from keras.layers import Dense, Activation\n",
        "from keras.initializers import Zeros, RandomNormal, glorot_normal, glorot_uniform"
      ]
    },
    {
      "cell_type": "markdown",
      "metadata": {
        "id": "U4udOsimGV08"
      },
      "source": [
        "#### Set number of neurons"
      ]
    },
    {
      "cell_type": "code",
      "execution_count": 2,
      "metadata": {
        "id": "FGudhJSSGV08"
      },
      "outputs": [],
      "source": [
        "n_input = 784\n",
        "n_dense = 256"
      ]
    },
    {
      "cell_type": "markdown",
      "metadata": {
        "id": "x5wCQQenGV08"
      },
      "source": [
        "#### Select a bias initializer"
      ]
    },
    {
      "cell_type": "code",
      "execution_count": 3,
      "metadata": {
        "id": "bXbVLYlkGV08"
      },
      "outputs": [],
      "source": [
        "b_init = Zeros()"
      ]
    },
    {
      "cell_type": "markdown",
      "metadata": {
        "id": "K9BM-uTHGV09"
      },
      "source": [
        "#### Select a weight initializer"
      ]
    },
    {
      "cell_type": "code",
      "execution_count": 4,
      "metadata": {
        "id": "jme7MDgeGV09"
      },
      "outputs": [],
      "source": [
        "w_init = RandomNormal(stddev=1.0)"
      ]
    },
    {
      "cell_type": "markdown",
      "metadata": {
        "id": "UbTWAsMRGV09"
      },
      "source": [
        "#### Design neural network architecture"
      ]
    },
    {
      "cell_type": "code",
      "execution_count": 6,
      "metadata": {
        "id": "qqiwoeYJGV09"
      },
      "outputs": [],
      "source": [
        "from keras.layers import Input\n",
        "\n",
        "model = Sequential()\n",
        "model.add(Input(shape=(n_input,)))\n",
        "model.add(Dense(n_dense,\n",
        "                kernel_initializer=w_init,\n",
        "                bias_initializer=b_init))\n",
        "model.add(Activation('sigmoid'))"
      ]
    },
    {
      "cell_type": "markdown",
      "metadata": {
        "id": "u-Xqk88sGV09"
      },
      "source": [
        "#### Generate random *x* values"
      ]
    },
    {
      "cell_type": "code",
      "execution_count": 15,
      "metadata": {
        "id": "59LA-H46GV09"
      },
      "outputs": [],
      "source": [
        "x = np.random.random((1,n_input))"
      ]
    },
    {
      "cell_type": "markdown",
      "metadata": {
        "id": "YD8NGqHMGV09"
      },
      "source": [
        "#### Forward propagate through the network"
      ]
    },
    {
      "cell_type": "code",
      "execution_count": 16,
      "metadata": {
        "id": "ovPoXfubGV09",
        "outputId": "22ca6860-4841-4dde-dd0e-507c8fe58344",
        "colab": {
          "base_uri": "https://localhost:8080/"
        }
      },
      "outputs": [
        {
          "output_type": "stream",
          "name": "stdout",
          "text": [
            "\u001b[1m1/1\u001b[0m \u001b[32m━━━━━━━━━━━━━━━━━━━━\u001b[0m\u001b[37m\u001b[0m \u001b[1m0s\u001b[0m 22ms/step\n"
          ]
        }
      ],
      "source": [
        "a = model.predict(x)"
      ]
    },
    {
      "cell_type": "code",
      "execution_count": 17,
      "metadata": {
        "id": "UTz2YpiKGV09",
        "outputId": "b58ecb70-1156-4a9c-9bc2-c27ca92447d0",
        "colab": {
          "base_uri": "https://localhost:8080/"
        }
      },
      "outputs": [
        {
          "output_type": "stream",
          "name": "stdout",
          "text": [
            "[[1.74428579e-11 1.42596022e-03 3.60770780e-03 9.46494877e-01\n",
            "  4.71059471e-01 1.62079672e-07 1.66652129e-07 1.00000000e+00\n",
            "  9.97753441e-01 2.31659190e-08 2.65696417e-06 8.28469560e-09\n",
            "  8.32573622e-02 1.15053226e-07 9.88829553e-01 9.99999881e-01\n",
            "  3.92193726e-07 1.18237750e-07 2.41034445e-06 3.08189658e-03\n",
            "  9.99979973e-01 1.32167537e-03 8.97101283e-01 9.99999285e-01\n",
            "  2.48170691e-04 9.99944150e-01 4.85826917e-02 4.58051218e-03\n",
            "  2.69653921e-09 7.30892599e-01 9.99763310e-01 3.92344296e-01\n",
            "  1.00000000e+00 5.52521264e-08 9.99390721e-01 5.54849014e-11\n",
            "  1.08223706e-02 9.99620795e-01 1.00000000e+00 2.19709356e-03\n",
            "  3.61213982e-02 9.99999404e-01 9.99887228e-01 5.18625802e-06\n",
            "  1.00000000e+00 9.99076426e-01 1.72689095e-01 1.00000000e+00\n",
            "  3.23440344e-03 1.71254982e-10 9.99892294e-01 9.99900758e-01\n",
            "  9.99953806e-01 1.00000000e+00 5.35314028e-18 1.15161798e-04\n",
            "  9.99985754e-01 9.99985814e-01 9.97085750e-01 8.47498886e-03\n",
            "  1.00000000e+00 9.99813259e-01 1.00000000e+00 1.00000000e+00\n",
            "  2.89938238e-04 9.53399241e-01 1.20598589e-08 5.18870138e-07\n",
            "  7.15135400e-07 1.00000000e+00 5.77902580e-13 6.46380460e-09\n",
            "  2.28917226e-01 1.00000000e+00 2.67889500e-02 4.11570219e-13\n",
            "  9.98287678e-01 1.48667332e-16 4.98271602e-09 1.00000000e+00\n",
            "  1.31837069e-03 1.06631273e-08 5.10279033e-15 1.00000000e+00\n",
            "  9.99999344e-01 3.91633506e-07 9.99998689e-01 9.99668181e-01\n",
            "  1.58643693e-01 9.99958992e-01 1.96686276e-04 9.97939765e-01\n",
            "  1.97870068e-10 2.52600398e-06 9.84814986e-14 9.59696591e-01\n",
            "  1.05834355e-08 8.15290832e-07 5.26752770e-02 7.87179649e-01\n",
            "  8.87474162e-04 6.63210267e-06 3.16040423e-11 1.54448813e-15\n",
            "  9.99999702e-01 9.99738574e-01 1.55795919e-06 1.81464606e-03\n",
            "  2.88459212e-02 1.47781635e-12 8.46211016e-01 1.96729205e-04\n",
            "  9.99396384e-01 3.39236420e-15 4.12014782e-01 3.22267629e-11\n",
            "  7.73426656e-10 9.75009501e-01 3.64991756e-05 8.27096105e-01\n",
            "  7.07628001e-09 9.99971390e-01 9.99812305e-01 6.57883063e-02\n",
            "  1.27648196e-12 5.39325237e-01 1.74430355e-01 9.99999940e-01\n",
            "  9.99205887e-01 5.09367273e-05 5.02938747e-01 8.57093334e-01\n",
            "  1.10244248e-02 1.00000000e+00 9.99958217e-01 6.86270818e-10\n",
            "  9.78180289e-01 2.80858159e-09 2.12841633e-09 9.66964953e-10\n",
            "  9.99126017e-01 1.23523913e-01 1.00000000e+00 2.74466379e-06\n",
            "  9.89543617e-01 2.99232895e-03 9.99972701e-01 1.09641615e-03\n",
            "  1.81125182e-09 1.14511028e-02 1.00000000e+00 4.49984938e-01\n",
            "  5.68570503e-11 8.14771396e-04 1.06037737e-06 9.99999881e-01\n",
            "  1.44194067e-01 2.50511750e-10 1.00000000e+00 1.00000000e+00\n",
            "  5.90810373e-07 2.85700308e-09 1.00000000e+00 2.88934885e-08\n",
            "  7.06537208e-03 2.88497881e-06 9.99907732e-01 9.86976206e-01\n",
            "  9.99231219e-01 2.74796579e-02 1.00000000e+00 1.12067774e-15\n",
            "  9.99995410e-01 9.95827019e-01 1.96965061e-06 1.44578109e-03\n",
            "  8.97318497e-03 9.98038769e-01 1.00000000e+00 1.00000000e+00\n",
            "  1.00000000e+00 1.47157534e-05 9.21664323e-05 4.61081254e-06\n",
            "  9.99100626e-01 9.22795594e-01 2.39613693e-11 1.35453701e-01\n",
            "  7.36690536e-02 4.51740081e-04 1.00000000e+00 9.99933064e-01\n",
            "  3.06715810e-04 9.94795442e-01 1.00000000e+00 1.00000000e+00\n",
            "  1.00000000e+00 1.04654231e-03 5.73164152e-06 9.95719016e-01\n",
            "  9.99999881e-01 9.99999642e-01 9.89876032e-01 3.05424037e-04\n",
            "  9.99988317e-01 1.53800174e-05 9.99997854e-01 9.99993682e-01\n",
            "  1.48041882e-02 2.51139443e-10 2.42263098e-10 9.15170789e-01\n",
            "  9.99999940e-01 8.58324766e-02 1.43895075e-01 4.19130269e-12\n",
            "  9.99997497e-01 6.16202414e-01 9.99999285e-01 2.27494747e-03\n",
            "  4.41002612e-08 9.99999881e-01 9.99986351e-01 9.99350905e-01\n",
            "  1.62403069e-06 6.69453167e-15 9.47808266e-01 9.70737934e-01\n",
            "  9.99999523e-01 1.00000000e+00 1.00000000e+00 2.87091779e-03\n",
            "  9.99975324e-01 1.29283168e-10 1.00000000e+00 6.64288640e-01\n",
            "  9.99994934e-01 5.53746702e-07 6.96347684e-07 8.15158000e-06\n",
            "  1.32272962e-15 1.66539034e-15 8.08960438e-01 3.75251830e-01\n",
            "  8.07170663e-03 4.68080401e-08 6.79614171e-02 4.73828177e-09\n",
            "  9.99714911e-01 4.81240270e-10 1.00000000e+00 9.99976158e-01\n",
            "  1.00000000e+00 7.04648256e-01 2.24940851e-03 9.99950171e-01]]\n"
          ]
        }
      ],
      "source": [
        "print(a)"
      ]
    },
    {
      "cell_type": "code",
      "execution_count": 18,
      "metadata": {
        "id": "WDioOFwpGV09",
        "outputId": "0a9a6bad-a90e-4da7-a31d-a67435d9aee9",
        "colab": {
          "base_uri": "https://localhost:8080/",
          "height": 430
        }
      },
      "outputs": [
        {
          "output_type": "display_data",
          "data": {
            "text/plain": [
              "<Figure size 640x480 with 1 Axes>"
            ],
            "image/png": "[encoded data removed]"
          },
          "metadata": {}
        }
      ],
      "source": [
        "_ = plt.hist(np.transpose(a))"
      ]
    },
    {
      "cell_type": "code",
      "execution_count": null,
      "metadata": {
        "id": "IpOfGkLfGV09"
      },
      "outputs": [],
      "source": []
    }
  ],
  "metadata": {
    "kernelspec": {
      "display_name": "Python 3",
      "language": "python",
      "name": "python3"
    },
    "language_info": {
      "codemirror_mode": {
        "name": "ipython",
        "version": 3
      },
      "file_extension": ".py",
      "mimetype": "text/x-python",
      "name": "python",
      "nbconvert_exporter": "python",
      "pygments_lexer": "ipython3",
      "version": "3.6.5"
    },
    "colab": {
      "provenance": []
    }
  },
  "nbformat": 4,
  "nbformat_minor": 0
}